{
 "cells": [
  {
   "cell_type": "code",
   "execution_count": 1,
   "id": "4413633b",
   "metadata": {
    "_cell_guid": "b1076dfc-b9ad-4769-8c92-a6c4dae69d19",
    "_uuid": "8f2839f25d086af736a60e9eeb907d3b93b6e0e5",
    "execution": {
     "iopub.execute_input": "2022-09-07T18:47:27.239009Z",
     "iopub.status.busy": "2022-09-07T18:47:27.238548Z",
     "iopub.status.idle": "2022-09-07T18:47:36.104835Z",
     "shell.execute_reply": "2022-09-07T18:47:36.103492Z"
    },
    "papermill": {
     "duration": 8.875423,
     "end_time": "2022-09-07T18:47:36.108125",
     "exception": false,
     "start_time": "2022-09-07T18:47:27.232702",
     "status": "completed"
    },
    "tags": []
   },
   "outputs": [],
   "source": [
    "import numpy as np # linear algebra\n",
    "import sklearn\n",
    "from sklearn.metrics import confusion_matrix, classification_report, ConfusionMatrixDisplay\n",
    "import os\n",
    "import shutil\n",
    "import tensorflow as tf\n",
    "from tensorflow.keras.preprocessing.image import img_to_array, load_img\n",
    "from tensorflow.keras.models import Model, load_model\n",
    "import matplotlib.pyplot as plt\n",
    "import os.path\n",
    "import json"
   ]
  },
  {
   "cell_type": "code",
   "execution_count": 2,
   "id": "49833aac",
   "metadata": {
    "execution": {
     "iopub.execute_input": "2022-09-07T18:47:36.117789Z",
     "iopub.status.busy": "2022-09-07T18:47:36.116166Z",
     "iopub.status.idle": "2022-09-07T18:47:41.013536Z",
     "shell.execute_reply": "2022-09-07T18:47:41.011704Z"
    },
    "papermill": {
     "duration": 4.905217,
     "end_time": "2022-09-07T18:47:41.016955",
     "exception": false,
     "start_time": "2022-09-07T18:47:36.111738",
     "status": "completed"
    },
    "scrolled": true,
    "tags": []
   },
   "outputs": [
    {
     "name": "stderr",
     "output_type": "stream",
     "text": [
      "2022-09-09 08:56:22.728398: I tensorflow/core/platform/cpu_feature_guard.cc:151] This TensorFlow binary is optimized with oneAPI Deep Neural Network Library (oneDNN) to use the following CPU instructions in performance-critical operations:  AVX2 FMA\n",
      "To enable them in other operations, rebuild TensorFlow with the appropriate compiler flags.\n"
     ]
    }
   ],
   "source": [
    "inceptionV3_path = './working/models/inceptionV3_final.h5'\n",
    "class_indices_path = './working//models/class_indices.npy'\n",
    "model = load_model(inceptionV3_path)\n",
    "\n",
    "class_indices = np.load(class_indices_path, allow_pickle=True).item()"
   ]
  },
  {
   "cell_type": "code",
   "execution_count": 3,
   "id": "9d3fc891",
   "metadata": {
    "execution": {
     "iopub.execute_input": "2022-09-07T18:47:41.026325Z",
     "iopub.status.busy": "2022-09-07T18:47:41.025658Z",
     "iopub.status.idle": "2022-09-07T18:49:51.028537Z",
     "shell.execute_reply": "2022-09-07T18:49:51.027293Z"
    },
    "papermill": {
     "duration": 130.010534,
     "end_time": "2022-09-07T18:49:51.031491",
     "exception": false,
     "start_time": "2022-09-07T18:47:41.020957",
     "status": "completed"
    },
    "tags": []
   },
   "outputs": [],
   "source": [
    "img_width, img_height = 224, 224\n",
    "\n",
    "# invert the class dictionary in order to get the label for the id\n",
    "inv_map = {v: k for k, v in class_indices.items()}\n",
    "\n",
    "predicted_vals = np.array([])\n",
    "real_vals = np.array([])\n",
    "\n",
    "for dirname, _, filenames in os.walk('./input/pneumonia-detection/test'):\n",
    "    for filename in filenames:\n",
    "        image_path = os.path.join(dirname, filename)\n",
    "        image = load_img(image_path, target_size=(img_width, img_height), interpolation='lanczos')\n",
    "        \n",
    "        image = img_to_array(image)\n",
    "\n",
    "        # important! otherwise the predictions will be '0'\n",
    "        image = image / 255.0\n",
    "\n",
    "        # add a new axis to make the image array confirm with\n",
    "        # the (samples, height, width, depth) structure\n",
    "        image = np.expand_dims(image, axis=0)\n",
    "\n",
    "        # get the probabilities for the prediction\n",
    "        probabilities = model.predict(image)\n",
    "\n",
    "        prediction_probability = probabilities[0, probabilities.argmax(axis=1)][0]\n",
    "\n",
    "        class_predicted = np.argmax(probabilities, axis=1)\n",
    "\n",
    "        inID = class_predicted[0]\n",
    "\n",
    "        label = inv_map[inID]\n",
    "        \n",
    "        class_dir = os.path.basename(dirname)\n",
    "\n",
    "        if np.size(predicted_vals) == 0:\n",
    "            predicted_vals = [inID]\n",
    "        else:\n",
    "            predicted_vals = np.concatenate((predicted_vals, [inID]), axis=0)\n",
    "            \n",
    "        real_vals = np.append(real_vals, class_indices[str(class_dir)])"
   ]
  },
  {
   "cell_type": "code",
   "execution_count": 4,
   "id": "2411e975",
   "metadata": {
    "execution": {
     "iopub.execute_input": "2022-09-07T18:49:51.039800Z",
     "iopub.status.busy": "2022-09-07T18:49:51.039370Z",
     "iopub.status.idle": "2022-09-07T18:49:51.044730Z",
     "shell.execute_reply": "2022-09-07T18:49:51.043705Z"
    },
    "papermill": {
     "duration": 0.013247,
     "end_time": "2022-09-07T18:49:51.048125",
     "exception": false,
     "start_time": "2022-09-07T18:49:51.034878",
     "status": "completed"
    },
    "tags": []
   },
   "outputs": [
    {
     "name": "stdout",
     "output_type": "stream",
     "text": [
      "(624,)\n",
      "(624,)\n"
     ]
    }
   ],
   "source": [
    "print(predicted_vals.shape)\n",
    "print(real_vals.shape)"
   ]
  },
  {
   "cell_type": "code",
   "execution_count": 5,
   "id": "672f96f0",
   "metadata": {
    "execution": {
     "iopub.execute_input": "2022-09-07T18:49:51.056325Z",
     "iopub.status.busy": "2022-09-07T18:49:51.055739Z",
     "iopub.status.idle": "2022-09-07T18:49:51.067282Z",
     "shell.execute_reply": "2022-09-07T18:49:51.066054Z"
    },
    "papermill": {
     "duration": 0.019796,
     "end_time": "2022-09-07T18:49:51.071032",
     "exception": false,
     "start_time": "2022-09-07T18:49:51.051236",
     "status": "completed"
    },
    "tags": []
   },
   "outputs": [
    {
     "name": "stdout",
     "output_type": "stream",
     "text": [
      "\n",
      "Classification report:\n",
      "              precision    recall  f1-score   support\n",
      "\n",
      "         0.0       0.90      0.53      0.67       234\n",
      "         1.0       0.78      0.96      0.86       390\n",
      "\n",
      "    accuracy                           0.80       624\n",
      "   macro avg       0.84      0.75      0.76       624\n",
      "weighted avg       0.82      0.80      0.79       624\n",
      "\n"
     ]
    }
   ],
   "source": [
    "print(\"\\nClassification report:\")\n",
    "print(classification_report(real_vals, predicted_vals))"
   ]
  },
  {
   "cell_type": "code",
   "execution_count": 6,
   "id": "52f2c2e9",
   "metadata": {},
   "outputs": [
    {
     "name": "stdout",
     "output_type": "stream",
     "text": [
      "{0: 'NORMAL', 1: 'PNEUMONIA'}\n"
     ]
    }
   ],
   "source": [
    "print(inv_map)"
   ]
  },
  {
   "cell_type": "code",
   "execution_count": 7,
   "id": "96ef5635",
   "metadata": {
    "execution": {
     "iopub.execute_input": "2022-09-07T18:49:51.098044Z",
     "iopub.status.busy": "2022-09-07T18:49:51.097425Z",
     "iopub.status.idle": "2022-09-07T18:49:51.107177Z",
     "shell.execute_reply": "2022-09-07T18:49:51.105430Z"
    },
    "papermill": {
     "duration": 0.017068,
     "end_time": "2022-09-07T18:49:51.109595",
     "exception": false,
     "start_time": "2022-09-07T18:49:51.092527",
     "status": "completed"
    },
    "tags": []
   },
   "outputs": [
    {
     "name": "stdout",
     "output_type": "stream",
     "text": [
      "\n",
      "Confusion matrix:\n",
      "Labels:  {0: 'NORMAL', 1: 'PNEUMONIA'}\n",
      "[[125 109]\n",
      " [ 14 376]]\n"
     ]
    }
   ],
   "source": [
    "cm = confusion_matrix(real_vals, predicted_vals)\n",
    "print(\"\\nConfusion matrix:\")\n",
    "print(\"Labels: \", inv_map)\n",
    "print(cm)"
   ]
  },
  {
   "cell_type": "code",
   "execution_count": 8,
   "id": "b65e7102",
   "metadata": {
    "execution": {
     "iopub.execute_input": "2022-09-07T18:49:51.118418Z",
     "iopub.status.busy": "2022-09-07T18:49:51.117737Z",
     "iopub.status.idle": "2022-09-07T18:49:51.361364Z",
     "shell.execute_reply": "2022-09-07T18:49:51.360149Z"
    },
    "papermill": {
     "duration": 0.250924,
     "end_time": "2022-09-07T18:49:51.364068",
     "exception": false,
     "start_time": "2022-09-07T18:49:51.113144",
     "status": "completed"
    },
    "tags": []
   },
   "outputs": [
    {
     "data": {
      "image/png": "[encoded data removed]",
      "text/plain": [
       "<Figure size 432x288 with 2 Axes>"
      ]
     },
     "metadata": {
      "needs_background": "light"
     },
     "output_type": "display_data"
    }
   ],
   "source": [
    "disp = ConfusionMatrixDisplay(confusion_matrix=cm, display_labels=inv_map)\n",
    "disp.plot()\n",
    "plt.show()"
   ]
  }
 ],
 "metadata": {
  "kernelspec": {
   "display_name": "Python 3 (ipykernel)",
   "language": "python",
   "name": "python3"
  },
  "language_info": {
   "codemirror_mode": {
    "name": "ipython",
    "version": 3
   },
   "file_extension": ".py",
   "mimetype": "text/x-python",
   "name": "python",
   "nbconvert_exporter": "python",
   "pygments_lexer": "ipython3",
   "version": "3.9.7"
  },
  "papermill": {
   "default_parameters": {},
   "duration": 157.392849,
   "end_time": "2022-09-07T18:49:54.363625",
   "environment_variables": {},
   "exception": null,
   "input_path": "__notebook__.ipynb",
   "output_path": "__notebook__.ipynb",
   "parameters": {},
   "start_time": "2022-09-07T18:47:16.970776",
   "version": "2.3.4"
  }
 },
 "nbformat": 4,
 "nbformat_minor": 5
}
