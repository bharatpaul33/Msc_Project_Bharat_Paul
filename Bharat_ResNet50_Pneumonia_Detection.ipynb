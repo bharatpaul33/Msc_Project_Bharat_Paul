{
 "cells": [
  {
   "cell_type": "code",
   "execution_count": 1,
   "id": "27075dbf",
   "metadata": {
    "execution": {
     "iopub.execute_input": "2022-08-25T17:45:17.347080Z",
     "iopub.status.busy": "2022-08-25T17:45:17.345585Z",
     "iopub.status.idle": "2022-08-25T17:45:17.355389Z",
     "shell.execute_reply": "2022-08-25T17:45:17.354903Z",
     "shell.execute_reply.started": "2022-08-03T12:38:41.417773Z"
    },
    "papermill": {
     "duration": 0.041587,
     "end_time": "2022-08-25T17:45:17.355525",
     "exception": false,
     "start_time": "2022-08-25T17:45:17.313938",
     "status": "completed"
    },
    "tags": []
   },
   "outputs": [],
   "source": [
    "# Importing the general utility libraries\n",
    "import numpy as np\n",
    "import pandas as pd\n",
    "import os\n",
    "import random\n",
    "import math\n",
    "import shutil\n",
    "import os.path\n",
    "import time\n",
    "import matplotlib.pyplot as plt"
   ]
  },
  {
   "cell_type": "code",
   "execution_count": 2,
   "id": "10b4ff6f",
   "metadata": {
    "execution": {
     "iopub.execute_input": "2022-08-25T17:45:17.385400Z",
     "iopub.status.busy": "2022-08-25T17:45:17.384775Z",
     "iopub.status.idle": "2022-08-25T17:45:22.561075Z",
     "shell.execute_reply": "2022-08-25T17:45:22.559981Z",
     "shell.execute_reply.started": "2022-08-03T12:38:41.443566Z"
    },
    "papermill": {
     "duration": 5.193188,
     "end_time": "2022-08-25T17:45:22.561240",
     "exception": false,
     "start_time": "2022-08-25T17:45:17.368052",
     "status": "completed"
    },
    "tags": []
   },
   "outputs": [],
   "source": [
    "# Importing the TensorFlow libraries for transfer-learning, data augmentation, and fine-tuning\n",
    "import tensorflow as tf\n",
    "from tensorflow.keras.preprocessing.image import ImageDataGenerator, img_to_array, load_img\n",
    "from tensorflow.keras.models import Sequential, Model, load_model\n",
    "from tensorflow.keras.layers import Dropout, Flatten, Dense, GlobalAveragePooling2D, Input\n",
    "from tensorflow.keras.applications.resnet50 import ResNet50\n",
    "from tensorflow.keras import optimizers\n",
    "from tensorflow.keras.optimizers import SGD\n",
    "from tensorflow.keras.callbacks import ModelCheckpoint, EarlyStopping, ReduceLROnPlateau"
   ]
  },
  {
   "cell_type": "markdown",
   "id": "295d8e7f",
   "metadata": {
    "papermill": {
     "duration": 0.013046,
     "end_time": "2022-08-25T17:45:22.587210",
     "exception": false,
     "start_time": "2022-08-25T17:45:22.574164",
     "status": "completed"
    },
    "tags": []
   },
   "source": [
    "The graph_training_history function provides plotting of the accuracy and loss of each iteration of the training using the history object returned by the tensorflow training functions. If a validation dataset is used while training, this function can plot both the training and validation graphs.\n",
    "\n",
    "The subplot function of Matplotlib is used to create a 2-row by 1-column chart to display both the accuracy and loss in the same image."
   ]
  },
  {
   "cell_type": "code",
   "execution_count": 3,
   "id": "19d444d7",
   "metadata": {
    "execution": {
     "iopub.execute_input": "2022-08-25T17:45:22.620796Z",
     "iopub.status.busy": "2022-08-25T17:45:22.619467Z",
     "iopub.status.idle": "2022-08-25T17:45:22.621851Z",
     "shell.execute_reply": "2022-08-25T17:45:22.622267Z",
     "shell.execute_reply.started": "2022-08-03T12:38:47.851201Z"
    },
    "papermill": {
     "duration": 0.022407,
     "end_time": "2022-08-25T17:45:22.622402",
     "exception": false,
     "start_time": "2022-08-25T17:45:22.599995",
     "status": "completed"
    },
    "tags": []
   },
   "outputs": [],
   "source": [
    "def graph_training_history(history, save_fig=False, save_path=None, graph_name=\"\"):\n",
    "    plt.rcParams[\"figure.figsize\"] = (12, 9)\n",
    "\n",
    "    plt.style.use('ggplot')\n",
    "\n",
    "    plt.figure(1)\n",
    "\n",
    "    # summarize history for accuracy\n",
    "\n",
    "    plt.subplot(211)\n",
    "    plt.plot(history.history['acc'])\n",
    "    plt.plot(history.history['val_acc'])\n",
    "    plt.title(graph_name + ' Model Accuracy')\n",
    "    plt.ylabel('Accuracy')\n",
    "    plt.xlabel('Epoch')\n",
    "    plt.legend(['Training', 'Validation'], loc='lower right')\n",
    "\n",
    "    # summarize history for loss\n",
    "\n",
    "    plt.subplot(212)\n",
    "    plt.plot(history.history['loss'])\n",
    "    plt.plot(history.history['val_loss'])\n",
    "    plt.title(graph_name + ' Model Loss')\n",
    "    plt.ylabel('Loss')\n",
    "    plt.xlabel('Epoch')\n",
    "    plt.legend(['Training', 'Validation'], loc='upper right')\n",
    "\n",
    "    plt.tight_layout()\n",
    "\n",
    "    if save_fig:\n",
    "        plt.savefig(save_path, bbox_inches='tight', dpi=300)\n",
    "    else:\n",
    "        plt.show()\n",
    "    \n",
    "    # clear and close the current figure\n",
    "    plt.clf()\n",
    "    plt.close()"
   ]
  },
  {
   "cell_type": "markdown",
   "id": "725adc74",
   "metadata": {
    "papermill": {
     "duration": 0.012648,
     "end_time": "2022-08-25T17:45:22.647430",
     "exception": false,
     "start_time": "2022-08-25T17:45:22.634782",
     "status": "completed"
    },
    "tags": []
   },
   "source": [
    "The get_class_weights function calculates the class weights by the number of images in each class of the dataset, and provides a higher weight to classes with lower number of images.\n",
    "\n",
    "When the number of samples (images) are not the same in each of the classes of dataset, it can cause the model to be inaccurate to the larger class. To prevent this, equal weights to the classes can be provided."
   ]
  },
  {
   "cell_type": "code",
   "execution_count": 4,
   "id": "36f6c022",
   "metadata": {
    "execution": {
     "iopub.execute_input": "2022-08-25T17:45:22.676942Z",
     "iopub.status.busy": "2022-08-25T17:45:22.676258Z",
     "iopub.status.idle": "2022-08-25T17:45:22.679187Z",
     "shell.execute_reply": "2022-08-25T17:45:22.678736Z",
     "shell.execute_reply.started": "2022-08-03T12:38:47.865932Z"
    },
    "papermill": {
     "duration": 0.019696,
     "end_time": "2022-08-25T17:45:22.679294",
     "exception": false,
     "start_time": "2022-08-25T17:45:22.659598",
     "status": "completed"
    },
    "tags": []
   },
   "outputs": [],
   "source": [
    "def get_class_weights(class_data_dir):\n",
    "    labels_count = dict()\n",
    "    for img_class in [ic for ic in os.listdir(class_data_dir) if ic[0] != '.']:\n",
    "        labels_count[img_class] = len(os.listdir(os.path.join(class_data_dir, img_class)))\n",
    "    total_count = sum(labels_count.values())\n",
    "    class_weights = {cls: total_count / count for cls, count in \n",
    "                    enumerate(labels_count.values())}\n",
    "    return class_weights"
   ]
  },
  {
   "cell_type": "markdown",
   "id": "397cdd44",
   "metadata": {},
   "source": [
    "Below row includes making of the 'working' directories for the model files. 'working' directory used for saving any outputs during model training. 'checkpoint' is used to save temporary snapshots of the model during training. it gets removed after training the 'models' directory is used to save the final model files during its training."
   ]
  },
  {
   "cell_type": "code",
   "execution_count": 5,
   "id": "644cfa3d",
   "metadata": {
    "execution": {
     "iopub.execute_input": "2022-08-25T17:45:22.707744Z",
     "iopub.status.busy": "2022-08-25T17:45:22.707187Z",
     "iopub.status.idle": "2022-08-25T17:45:22.711269Z",
     "shell.execute_reply": "2022-08-25T17:45:22.710812Z",
     "shell.execute_reply.started": "2022-08-03T12:38:47.878169Z"
    },
    "papermill": {
     "duration": 0.019593,
     "end_time": "2022-08-25T17:45:22.711385",
     "exception": false,
     "start_time": "2022-08-25T17:45:22.691792",
     "status": "completed"
    },
    "tags": []
   },
   "outputs": [],
   "source": [
    "# creating the working directories for the model files\n",
    "os.makedirs('./working/models', exist_ok = True)\n",
    "\n",
    "os.makedirs('./working/checkpoints', exist_ok = True)\n",
    "os.makedirs('./working/checkpoints/training', exist_ok = True)\n",
    "os.makedirs('./working/checkpoints/finetune', exist_ok = True)"
   ]
  },
  {
   "cell_type": "code",
   "execution_count": 6,
   "id": "2a8469e5",
   "metadata": {
    "execution": {
     "iopub.execute_input": "2022-08-25T17:45:22.740046Z",
     "iopub.status.busy": "2022-08-25T17:45:22.738815Z",
     "iopub.status.idle": "2022-08-25T17:45:22.741506Z",
     "shell.execute_reply": "2022-08-25T17:45:22.741110Z",
     "shell.execute_reply.started": "2022-08-03T12:38:47.895287Z"
    },
    "papermill": {
     "duration": 0.018102,
     "end_time": "2022-08-25T17:45:22.741614",
     "exception": false,
     "start_time": "2022-08-25T17:45:22.723512",
     "status": "completed"
    },
    "tags": []
   },
   "outputs": [],
   "source": [
    "#  defining the paths for the model files\n",
    "class_indices_path = './working/models/class_indices.npy'\n",
    "initial_model_path = './working/models/ResNet50_initial.h5'\n",
    "final_model_path = './working/models/ResNet50_final.h5'"
   ]
  },
  {
   "cell_type": "code",
   "execution_count": 7,
   "id": "897f2e6e",
   "metadata": {
    "execution": {
     "iopub.execute_input": "2022-08-25T17:45:22.770035Z",
     "iopub.status.busy": "2022-08-25T17:45:22.769359Z",
     "iopub.status.idle": "2022-08-25T17:45:22.772194Z",
     "shell.execute_reply": "2022-08-25T17:45:22.771782Z",
     "shell.execute_reply.started": "2022-08-03T12:38:47.90695Z"
    },
    "papermill": {
     "duration": 0.018138,
     "end_time": "2022-08-25T17:45:22.772303",
     "exception": false,
     "start_time": "2022-08-25T17:45:22.754165",
     "status": "completed"
    },
    "tags": []
   },
   "outputs": [],
   "source": [
    "training_checkpoint_dir = './working/checkpoints/training'\n",
    "finetune_checkpoint_dir = './working/checkpoints/finetune'\n",
    "\n",
    "init_epoch_train = 0\n",
    "init_epoch_finetune = 0"
   ]
  },
  {
   "cell_type": "code",
   "execution_count": 8,
   "id": "56af33e8",
   "metadata": {
    "execution": {
     "iopub.execute_input": "2022-08-25T17:45:22.800905Z",
     "iopub.status.busy": "2022-08-25T17:45:22.800362Z",
     "iopub.status.idle": "2022-08-25T17:45:22.804083Z",
     "shell.execute_reply": "2022-08-25T17:45:22.803636Z",
     "shell.execute_reply.started": "2022-08-03T12:38:47.921581Z"
    },
    "papermill": {
     "duration": 0.019223,
     "end_time": "2022-08-25T17:45:22.804195",
     "exception": false,
     "start_time": "2022-08-25T17:45:22.784972",
     "status": "completed"
    },
    "tags": []
   },
   "outputs": [],
   "source": [
    "# start time of the script\n",
    "start_time = time.time()\n",
    "\n",
    "# dimensions of the images.\n",
    "img_width, img_height = 224, 224\n",
    "\n",
    "train_data_dir = './input/pneumonia-detection/train'\n",
    "validation_data_dir = './input/pneumonia-detection/test'\n",
    "\n",
    "# number of epochs to train\n",
    "epochs = 50\n",
    "\n",
    "# batch size used by flow_from_directory\n",
    "batch_size = 32"
   ]
  },
  {
   "cell_type": "markdown",
   "id": "23f5363f",
   "metadata": {
    "papermill": {
     "duration": 0.011999,
     "end_time": "2022-08-25T17:45:22.828257",
     "exception": false,
     "start_time": "2022-08-25T17:45:22.816258",
     "status": "completed"
    },
    "tags": []
   },
   "source": [
    "Using the ImageDataGenerator class to load and preprocess the dataset. ImageDataGenerator allows on- the-fly data augmentation. Augmentation is applying random transformations to the images so that the model being trained is less likely to overfit. The random transformations prevents the model from seeing the exact same image multiple times during training epochs, which allows the model to gereralize better.\n",
    "\n",
    "Once the augmentation parameters are defined, the flow_from_directory function can be used to load the images as batches.\n"
   ]
  },
  {
   "cell_type": "code",
   "execution_count": 9,
   "id": "fe5acd86",
   "metadata": {
    "execution": {
     "iopub.execute_input": "2022-08-25T17:45:22.857875Z",
     "iopub.status.busy": "2022-08-25T17:45:22.857283Z",
     "iopub.status.idle": "2022-08-25T17:45:24.465069Z",
     "shell.execute_reply": "2022-08-25T17:45:24.465781Z",
     "shell.execute_reply.started": "2022-08-03T12:38:47.937684Z"
    },
    "papermill": {
     "duration": 1.625512,
     "end_time": "2022-08-25T17:45:24.465949",
     "exception": false,
     "start_time": "2022-08-25T17:45:22.840437",
     "status": "completed"
    },
    "tags": []
   },
   "outputs": [
    {
     "name": "stdout",
     "output_type": "stream",
     "text": [
      "Found 5216 images belonging to 2 classes.\n",
      "Found 624 images belonging to 2 classes.\n"
     ]
    }
   ],
   "source": [
    "# following augmentation configuration will be used for training\n",
    "\n",
    "train_datagen = ImageDataGenerator(\n",
    "    rescale=1. / 255,\n",
    "    rotation_range=40,\n",
    "    width_shift_range=0.2,\n",
    "    height_shift_range=0.2,\n",
    "    shear_range=0.2,\n",
    "    zoom_range=0.2,\n",
    "    horizontal_flip=False,\n",
    "    vertical_flip=False,\n",
    "    fill_mode='nearest')\n",
    "\n",
    "# augmentation configuration that will be used for testing: \n",
    "# rescaling\n",
    "test_datagen = ImageDataGenerator(rescale=1. / 255)\n",
    "\n",
    "train_generator = train_datagen.flow_from_directory(\n",
    "    train_data_dir,\n",
    "    target_size=(img_width, img_height),\n",
    "    batch_size=batch_size,\n",
    "    class_mode='categorical')\n",
    "\n",
    "validation_generator = test_datagen.flow_from_directory(\n",
    "    validation_data_dir,\n",
    "    target_size=(img_width, img_height),\n",
    "    batch_size=batch_size,\n",
    "    class_mode='categorical')"
   ]
  },
  {
   "cell_type": "code",
   "execution_count": 10,
   "id": "7a3ae9bb",
   "metadata": {
    "execution": {
     "iopub.execute_input": "2022-08-25T17:45:24.496587Z",
     "iopub.status.busy": "2022-08-25T17:45:24.495815Z",
     "iopub.status.idle": "2022-08-25T17:45:24.503049Z",
     "shell.execute_reply": "2022-08-25T17:45:24.502536Z",
     "shell.execute_reply.started": "2022-08-03T12:38:50.414295Z"
    },
    "papermill": {
     "duration": 0.024325,
     "end_time": "2022-08-25T17:45:24.503160",
     "exception": false,
     "start_time": "2022-08-25T17:45:24.478835",
     "status": "completed"
    },
    "tags": []
   },
   "outputs": [
    {
     "name": "stdout",
     "output_type": "stream",
     "text": [
      "{0: 1.3460645161290323, 1: 3.889634601043997}\n"
     ]
    }
   ],
   "source": [
    "# the number of classes/categories\n",
    "num_classes = len(train_generator.class_indices)\n",
    "\n",
    "# save the class indices for use in the predictions\n",
    "np.save(class_indices_path, train_generator.class_indices)\n",
    "\n",
    "# calculating the training steps\n",
    "nb_train_samples = len(train_generator.filenames)\n",
    "train_steps = int(math.ceil(nb_train_samples / batch_size))\n",
    "\n",
    "# calculating the validation steps\n",
    "nb_validation_samples = len(validation_generator.filenames)\n",
    "validation_steps = int(math.ceil(nb_validation_samples / batch_size))\n",
    "\n",
    "# getting the class weights\n",
    "class_weights = get_class_weights(train_data_dir)\n",
    "\n",
    "print(class_weights)"
   ]
  },
  {
   "cell_type": "markdown",
   "id": "6540865f",
   "metadata": {
    "papermill": {
     "duration": 0.012549,
     "end_time": "2022-08-25T17:45:24.528577",
     "exception": false,
     "start_time": "2022-08-25T17:45:24.516028",
     "status": "completed"
    },
    "tags": []
   },
   "source": [
    "In order to perform transfer learning on the dataset, a pre-trained CNN model, such as InceptionV3, with the imagenet weights and remove the top dense layers.A new set of dense layers to the model is added. Once these layers are added, the orginal model layers are frozen (i.e. set trainable to false) so that only the new layers will be trained."
   ]
  },
  {
   "cell_type": "code",
   "execution_count": 11,
   "id": "cdd4e782",
   "metadata": {
    "execution": {
     "iopub.execute_input": "2022-08-25T17:45:24.564604Z",
     "iopub.status.busy": "2022-08-25T17:45:24.563995Z",
     "iopub.status.idle": "2022-08-25T18:14:49.589450Z",
     "shell.execute_reply": "2022-08-25T18:14:49.589001Z",
     "shell.execute_reply.started": "2022-08-03T12:38:50.431523Z"
    },
    "papermill": {
     "duration": 1765.048022,
     "end_time": "2022-08-25T18:14:49.589591",
     "exception": false,
     "start_time": "2022-08-25T17:45:24.541569",
     "status": "completed"
    },
    "tags": []
   },
   "outputs": [
    {
     "name": "stdout",
     "output_type": "stream",
     "text": [
      "Downloading data from https://storage.googleapis.com/tensorflow/keras-applications/resnet/resnet50_weights_tf_dim_ordering_tf_kernels_notop.h5\n",
      "94773248/94765736 [==============================] - 0s 0us/step\n",
      "0 input_1\n",
      "1 conv1_pad\n",
      "2 conv1_conv\n",
      "3 conv1_bn\n",
      "4 conv1_relu\n",
      "5 pool1_pad\n",
      "6 pool1_pool\n",
      "7 conv2_block1_1_conv\n",
      "8 conv2_block1_1_bn\n",
      "9 conv2_block1_1_relu\n",
      "10 conv2_block1_2_conv\n",
      "11 conv2_block1_2_bn\n",
      "12 conv2_block1_2_relu\n",
      "13 conv2_block1_0_conv\n",
      "14 conv2_block1_3_conv\n",
      "15 conv2_block1_0_bn\n",
      "16 conv2_block1_3_bn\n",
      "17 conv2_block1_add\n",
      "18 conv2_block1_out\n",
      "19 conv2_block2_1_conv\n",
      "20 conv2_block2_1_bn\n",
      "21 conv2_block2_1_relu\n",
      "22 conv2_block2_2_conv\n",
      "23 conv2_block2_2_bn\n",
      "24 conv2_block2_2_relu\n",
      "25 conv2_block2_3_conv\n",
      "26 conv2_block2_3_bn\n",
      "27 conv2_block2_add\n",
      "28 conv2_block2_out\n",
      "29 conv2_block3_1_conv\n",
      "30 conv2_block3_1_bn\n",
      "31 conv2_block3_1_relu\n",
      "32 conv2_block3_2_conv\n",
      "33 conv2_block3_2_bn\n",
      "34 conv2_block3_2_relu\n",
      "35 conv2_block3_3_conv\n",
      "36 conv2_block3_3_bn\n",
      "37 conv2_block3_add\n",
      "38 conv2_block3_out\n",
      "39 conv3_block1_1_conv\n",
      "40 conv3_block1_1_bn\n",
      "41 conv3_block1_1_relu\n",
      "42 conv3_block1_2_conv\n",
      "43 conv3_block1_2_bn\n",
      "44 conv3_block1_2_relu\n",
      "45 conv3_block1_0_conv\n",
      "46 conv3_block1_3_conv\n",
      "47 conv3_block1_0_bn\n",
      "48 conv3_block1_3_bn\n",
      "49 conv3_block1_add\n",
      "50 conv3_block1_out\n",
      "51 conv3_block2_1_conv\n",
      "52 conv3_block2_1_bn\n",
      "53 conv3_block2_1_relu\n",
      "54 conv3_block2_2_conv\n",
      "55 conv3_block2_2_bn\n",
      "56 conv3_block2_2_relu\n",
      "57 conv3_block2_3_conv\n",
      "58 conv3_block2_3_bn\n",
      "59 conv3_block2_add\n",
      "60 conv3_block2_out\n",
      "61 conv3_block3_1_conv\n",
      "62 conv3_block3_1_bn\n",
      "63 conv3_block3_1_relu\n",
      "64 conv3_block3_2_conv\n",
      "65 conv3_block3_2_bn\n",
      "66 conv3_block3_2_relu\n",
      "67 conv3_block3_3_conv\n",
      "68 conv3_block3_3_bn\n",
      "69 conv3_block3_add\n",
      "70 conv3_block3_out\n",
      "71 conv3_block4_1_conv\n",
      "72 conv3_block4_1_bn\n",
      "73 conv3_block4_1_relu\n",
      "74 conv3_block4_2_conv\n",
      "75 conv3_block4_2_bn\n",
      "76 conv3_block4_2_relu\n",
      "77 conv3_block4_3_conv\n",
      "78 conv3_block4_3_bn\n",
      "79 conv3_block4_add\n",
      "80 conv3_block4_out\n",
      "81 conv4_block1_1_conv\n",
      "82 conv4_block1_1_bn\n",
      "83 conv4_block1_1_relu\n",
      "84 conv4_block1_2_conv\n",
      "85 conv4_block1_2_bn\n",
      "86 conv4_block1_2_relu\n",
      "87 conv4_block1_0_conv\n",
      "88 conv4_block1_3_conv\n",
      "89 conv4_block1_0_bn\n",
      "90 conv4_block1_3_bn\n",
      "91 conv4_block1_add\n",
      "92 conv4_block1_out\n",
      "93 conv4_block2_1_conv\n",
      "94 conv4_block2_1_bn\n",
      "95 conv4_block2_1_relu\n",
      "96 conv4_block2_2_conv\n",
      "97 conv4_block2_2_bn\n",
      "98 conv4_block2_2_relu\n",
      "99 conv4_block2_3_conv\n",
      "100 conv4_block2_3_bn\n",
      "101 conv4_block2_add\n",
      "102 conv4_block2_out\n",
      "103 conv4_block3_1_conv\n",
      "104 conv4_block3_1_bn\n",
      "105 conv4_block3_1_relu\n",
      "106 conv4_block3_2_conv\n",
      "107 conv4_block3_2_bn\n",
      "108 conv4_block3_2_relu\n",
      "109 conv4_block3_3_conv\n",
      "110 conv4_block3_3_bn\n",
      "111 conv4_block3_add\n",
      "112 conv4_block3_out\n",
      "113 conv4_block4_1_conv\n",
      "114 conv4_block4_1_bn\n",
      "115 conv4_block4_1_relu\n",
      "116 conv4_block4_2_conv\n",
      "117 conv4_block4_2_bn\n",
      "118 conv4_block4_2_relu\n",
      "119 conv4_block4_3_conv\n",
      "120 conv4_block4_3_bn\n",
      "121 conv4_block4_add\n",
      "122 conv4_block4_out\n",
      "123 conv4_block5_1_conv\n",
      "124 conv4_block5_1_bn\n",
      "125 conv4_block5_1_relu\n",
      "126 conv4_block5_2_conv\n",
      "127 conv4_block5_2_bn\n",
      "128 conv4_block5_2_relu\n",
      "129 conv4_block5_3_conv\n",
      "130 conv4_block5_3_bn\n",
      "131 conv4_block5_add\n",
      "132 conv4_block5_out\n",
      "133 conv4_block6_1_conv\n",
      "134 conv4_block6_1_bn\n",
      "135 conv4_block6_1_relu\n",
      "136 conv4_block6_2_conv\n",
      "137 conv4_block6_2_bn\n",
      "138 conv4_block6_2_relu\n",
      "139 conv4_block6_3_conv\n",
      "140 conv4_block6_3_bn\n",
      "141 conv4_block6_add\n",
      "142 conv4_block6_out\n",
      "143 conv5_block1_1_conv\n",
      "144 conv5_block1_1_bn\n",
      "145 conv5_block1_1_relu\n",
      "146 conv5_block1_2_conv\n",
      "147 conv5_block1_2_bn\n",
      "148 conv5_block1_2_relu\n",
      "149 conv5_block1_0_conv\n",
      "150 conv5_block1_3_conv\n",
      "151 conv5_block1_0_bn\n",
      "152 conv5_block1_3_bn\n",
      "153 conv5_block1_add\n",
      "154 conv5_block1_out\n",
      "155 conv5_block2_1_conv\n",
      "156 conv5_block2_1_bn\n",
      "157 conv5_block2_1_relu\n",
      "158 conv5_block2_2_conv\n",
      "159 conv5_block2_2_bn\n",
      "160 conv5_block2_2_relu\n",
      "161 conv5_block2_3_conv\n",
      "162 conv5_block2_3_bn\n",
      "163 conv5_block2_add\n",
      "164 conv5_block2_out\n",
      "165 conv5_block3_1_conv\n",
      "166 conv5_block3_1_bn\n",
      "167 conv5_block3_1_relu\n",
      "168 conv5_block3_2_conv\n",
      "169 conv5_block3_2_bn\n",
      "170 conv5_block3_2_relu\n",
      "171 conv5_block3_3_conv\n",
      "172 conv5_block3_3_bn\n",
      "173 conv5_block3_add\n",
      "174 conv5_block3_out\n",
      "175 global_average_pooling2d\n",
      "176 dense\n",
      "177 dense_1\n",
      "Epoch 1/50\n",
      "163/163 [==============================] - 117s 629ms/step - loss: 1.3826 - acc: 0.7366 - val_loss: 0.6108 - val_acc: 0.6330\n",
      "\n",
      "Epoch 00001: val_acc improved from -inf to 0.63301, saving model to ./working/checkpoints/training/model-01-0.63-0.61.h5\n",
      "Epoch 2/50\n",
      "163/163 [==============================] - 106s 630ms/step - loss: 0.9206 - acc: 0.7432 - val_loss: 0.7745 - val_acc: 0.6298\n",
      "\n",
      "Epoch 00002: val_acc did not improve from 0.63301\n",
      "Epoch 3/50\n",
      "163/163 [==============================] - 108s 625ms/step - loss: 0.8600 - acc: 0.7573 - val_loss: 0.7732 - val_acc: 0.6314\n",
      "\n",
      "Epoch 00003: val_acc did not improve from 0.63301\n",
      "Epoch 4/50\n",
      "163/163 [==============================] - 109s 623ms/step - loss: 0.8348 - acc: 0.7664 - val_loss: 0.5839 - val_acc: 0.6731\n",
      "\n",
      "Epoch 00004: val_acc improved from 0.63301 to 0.67308, saving model to ./working/checkpoints/training/model-04-0.67-0.58.h5\n",
      "Epoch 5/50\n",
      "163/163 [==============================] - 105s 623ms/step - loss: 0.7860 - acc: 0.7693 - val_loss: 0.5691 - val_acc: 0.6859\n",
      "\n",
      "Epoch 00005: val_acc improved from 0.67308 to 0.68590, saving model to ./working/checkpoints/training/model-05-0.69-0.57.h5\n",
      "Epoch 6/50\n",
      "163/163 [==============================] - 104s 606ms/step - loss: 0.8568 - acc: 0.7564 - val_loss: 0.4724 - val_acc: 0.7869\n",
      "\n",
      "Epoch 00006: val_acc improved from 0.68590 to 0.78686, saving model to ./working/checkpoints/training/model-06-0.79-0.47.h5\n",
      "Epoch 7/50\n",
      "163/163 [==============================] - 105s 615ms/step - loss: 0.8756 - acc: 0.7619 - val_loss: 1.0498 - val_acc: 0.6250\n",
      "\n",
      "Epoch 00007: val_acc did not improve from 0.78686\n",
      "Epoch 8/50\n",
      "163/163 [==============================] - 108s 614ms/step - loss: 0.8910 - acc: 0.7580 - val_loss: 0.7867 - val_acc: 0.6394\n",
      "\n",
      "Epoch 00008: val_acc did not improve from 0.78686\n",
      "Epoch 9/50\n",
      "163/163 [==============================] - 108s 618ms/step - loss: 0.7892 - acc: 0.7687 - val_loss: 0.5456 - val_acc: 0.6907\n",
      "\n",
      "Epoch 00009: val_acc did not improve from 0.78686\n",
      "\n",
      "Epoch 00009: ReduceLROnPlateau reducing learning rate to 0.00010000000474974513.\n",
      "Epoch 10/50\n",
      "163/163 [==============================] - 109s 624ms/step - loss: 0.7756 - acc: 0.7658 - val_loss: 0.6591 - val_acc: 0.6522\n",
      "\n",
      "Epoch 00010: val_acc did not improve from 0.78686\n",
      "Epoch 11/50\n",
      "163/163 [==============================] - 110s 633ms/step - loss: 0.7531 - acc: 0.7644 - val_loss: 0.7007 - val_acc: 0.6410\n",
      "\n",
      "Epoch 00011: val_acc did not improve from 0.78686\n",
      "Epoch 12/50\n",
      "163/163 [==============================] - 109s 622ms/step - loss: 0.7586 - acc: 0.7737 - val_loss: 0.6050 - val_acc: 0.6779\n",
      "\n",
      "Epoch 00012: val_acc did not improve from 0.78686\n",
      "\n",
      "Epoch 00012: ReduceLROnPlateau reducing learning rate to 1.0000000474974514e-05.\n",
      "Epoch 13/50\n",
      "163/163 [==============================] - 109s 628ms/step - loss: 0.7640 - acc: 0.7686 - val_loss: 0.6426 - val_acc: 0.6587\n",
      "\n",
      "Epoch 00013: val_acc did not improve from 0.78686\n",
      "Epoch 14/50\n",
      "163/163 [==============================] - 109s 627ms/step - loss: 0.7344 - acc: 0.7769 - val_loss: 0.6420 - val_acc: 0.6587\n",
      "\n",
      "Epoch 00014: val_acc did not improve from 0.78686\n",
      "Epoch 15/50\n",
      "163/163 [==============================] - 109s 625ms/step - loss: 0.7429 - acc: 0.7644 - val_loss: 0.6431 - val_acc: 0.6587\n",
      "\n",
      "Epoch 00015: val_acc did not improve from 0.78686\n",
      "\n",
      "Epoch 00015: ReduceLROnPlateau reducing learning rate to 1.0000000656873453e-06.\n",
      "Epoch 16/50\n",
      "163/163 [==============================] - 109s 621ms/step - loss: 0.7519 - acc: 0.7693 - val_loss: 0.6400 - val_acc: 0.6587\n",
      "\n",
      "Epoch 00016: val_acc did not improve from 0.78686\n",
      "Restoring model weights from the end of the best epoch.\n",
      "Epoch 00016: early stopping\n",
      "20/20 [==============================] - 6s 309ms/step - loss: 0.4724 - acc: 0.7869\n",
      "\n",
      "\n",
      "[INFO] accuracy: 78.69%\n",
      "[INFO] Loss: 0.4724016785621643\n"
     ]
    }
   ],
   "source": [
    "# creating the base pre-trained model\n",
    "base_model = ResNet50(\n",
    "    weights='imagenet', \n",
    "    include_top=False, \n",
    "    input_tensor=Input(shape=(img_width, img_height, 3))\n",
    "    )\n",
    "\n",
    "x = base_model.output\n",
    "\n",
    "# adding a global spatial average pooling layer\n",
    "\n",
    "x = GlobalAveragePooling2D()(x)\n",
    "x = Dense(512, activation='relu')(x)\n",
    "predictions = Dense(num_classes, activation='softmax')(x)\n",
    "\n",
    "# the model that will be trained\n",
    "\n",
    "model = Model(inputs=base_model.input, outputs=predictions)\n",
    "\n",
    "for i,layer in enumerate(model.layers):\n",
    "    print(i,layer.name)\n",
    "\n",
    "# first: only the top layers are trained (which were randomly initialized) \n",
    "# i.e. freeze all convolutional layers\n",
    "for layer in base_model.layers:\n",
    "    layer.trainable = False\n",
    "\n",
    "# compiling the model (should be done *after* setting layers to non-trainable)\n",
    "\n",
    "model.compile(optimizer='adam', loss='categorical_crossentropy', metrics=['acc'])\n",
    "\n",
    "filepath = training_checkpoint_dir + \"/model-{epoch:02d}-{val_acc:.2f}-{val_loss:.2f}.h5\"\n",
    "\n",
    "# saving chackpoints of the model training as it allows to load the best stage of the training after the training is finished\n",
    "\n",
    "checkpoint = ModelCheckpoint(\n",
    "                            filepath, \n",
    "                            monitor=\"val_acc\", \n",
    "                            verbose=1, \n",
    "                            save_best_only=True, \n",
    "                            save_weights_only=False, \n",
    "                            mode=\"max\"\n",
    "                            )\n",
    "\n",
    "# early stopping can monitor the model training and will stop the training \n",
    "#if the validation accuracy does not improve for more than 10 epochs. \n",
    "#It will also restore the best model weights using the checkpoints saved above.\n",
    "early_stop = EarlyStopping(\n",
    "                            monitor=\"val_acc\", \n",
    "                            mode=\"max\", \n",
    "                            verbose=1, \n",
    "                            patience=10, \n",
    "                            restore_best_weights=True\n",
    "                            )\n",
    "\n",
    "# reduce learning-rate can detect if the training is not improving, \n",
    "# and will automatically reduce the rearning rate to 1/10 to reduce overfitting.\n",
    "reduce_lr = ReduceLROnPlateau(\n",
    "                            monitor='val_acc',\n",
    "                            mode=\"max\",\n",
    "                            patience=3,\n",
    "                            verbose=1\n",
    "                            )\n",
    "\n",
    "callbacks_list = [checkpoint, reduce_lr, early_stop]\n",
    "\n",
    "# training the model, and getting back the history object to graph\n",
    "\n",
    "history = model.fit(\n",
    "                    train_generator,\n",
    "                    steps_per_epoch=train_steps,\n",
    "                    epochs=epochs,\n",
    "                    validation_data=validation_generator,\n",
    "                    validation_steps=validation_steps,\n",
    "                    class_weight=class_weights,\n",
    "                    max_queue_size=15,\n",
    "                    workers=8,\n",
    "                    initial_epoch=init_epoch_train,\n",
    "                    callbacks=callbacks_list\n",
    "                    )\n",
    "\n",
    "# saving the model to file\n",
    "model.save(initial_model_path)\n",
    "\n",
    "# running evaluation on the model\n",
    "(eval_loss, eval_accuracy) = model.evaluate(\n",
    "    validation_generator, steps=validation_steps)\n",
    "\n",
    "print(\"\\n\")\n",
    "\n",
    "print(\"[INFO] accuracy: {:.2f}%\".format(eval_accuracy * 100))\n",
    "print(\"[INFO] Loss: {}\".format(eval_loss))"
   ]
  },
  {
   "cell_type": "code",
   "execution_count": 12,
   "id": "5529ca33",
   "metadata": {
    "execution": {
     "iopub.execute_input": "2022-08-25T18:14:51.592543Z",
     "iopub.status.busy": "2022-08-25T18:14:51.591716Z",
     "iopub.status.idle": "2022-08-25T18:14:52.068417Z",
     "shell.execute_reply": "2022-08-25T18:14:52.067912Z"
    },
    "papermill": {
     "duration": 1.666332,
     "end_time": "2022-08-25T18:14:52.068542",
     "exception": false,
     "start_time": "2022-08-25T18:14:50.402210",
     "status": "completed"
    },
    "tags": []
   },
   "outputs": [
    {
     "data": {
      "image/png": "[encoded data removed]",
      "text/plain": [
       "<Figure size 864x648 with 2 Axes>"
      ]
     },
     "metadata": {},
     "output_type": "display_data"
    }
   ],
   "source": [
    "# plotting the training history\n",
    "graph_training_history(history, save_fig=False, graph_name=\"ResNet50 Train\")"
   ]
  },
  {
   "cell_type": "markdown",
   "id": "74deebb7",
   "metadata": {
    "papermill": {
     "duration": 0.652027,
     "end_time": "2022-08-25T18:14:53.382630",
     "exception": false,
     "start_time": "2022-08-25T18:14:52.730603",
     "status": "completed"
    },
    "tags": []
   },
   "source": [
    "In order to fine-tune the transfer-learned model, the model is unfreezed up to the last convolutional block of the model.\n",
    "\n",
    "it can then bed trained using a very low learning rate."
   ]
  },
  {
   "cell_type": "code",
   "execution_count": 13,
   "id": "23695d55",
   "metadata": {
    "execution": {
     "iopub.execute_input": "2022-08-25T18:14:54.710127Z",
     "iopub.status.busy": "2022-08-25T18:14:54.705733Z",
     "iopub.status.idle": "2022-08-25T18:48:02.596889Z",
     "shell.execute_reply": "2022-08-25T18:48:02.597291Z"
    },
    "papermill": {
     "duration": 1988.563316,
     "end_time": "2022-08-25T18:48:02.597465",
     "exception": false,
     "start_time": "2022-08-25T18:14:54.034149",
     "status": "completed"
    },
    "tags": []
   },
   "outputs": [
    {
     "name": "stdout",
     "output_type": "stream",
     "text": [
      "Epoch 1/50\n",
      "163/163 [==============================] - 113s 651ms/step - loss: 1.1562 - acc: 0.7889 - val_loss: 0.7928 - val_acc: 0.6266\n",
      "\n",
      "Epoch 00001: val_acc improved from -inf to 0.62660, saving model to ./working/checkpoints/finetune/model-01-0.63-0.79.h5\n",
      "Epoch 2/50\n",
      "163/163 [==============================] - 107s 632ms/step - loss: 0.6453 - acc: 0.8040 - val_loss: 0.5044 - val_acc: 0.6699\n",
      "\n",
      "Epoch 00002: val_acc improved from 0.62660 to 0.66987, saving model to ./working/checkpoints/finetune/model-02-0.67-0.50.h5\n",
      "Epoch 3/50\n",
      "163/163 [==============================] - 107s 630ms/step - loss: 0.5985 - acc: 0.8297 - val_loss: 0.8026 - val_acc: 0.6426\n",
      "\n",
      "Epoch 00003: val_acc did not improve from 0.66987\n",
      "Epoch 4/50\n",
      "163/163 [==============================] - 109s 624ms/step - loss: 0.6311 - acc: 0.8328 - val_loss: 1.7638 - val_acc: 0.6250\n",
      "\n",
      "Epoch 00004: val_acc did not improve from 0.66987\n",
      "Epoch 5/50\n",
      "163/163 [==============================] - 109s 628ms/step - loss: 0.6114 - acc: 0.8351 - val_loss: 2.2070 - val_acc: 0.6250\n",
      "\n",
      "Epoch 00005: val_acc did not improve from 0.66987\n",
      "\n",
      "Epoch 00005: ReduceLROnPlateau reducing learning rate to 9.999999747378752e-06.\n",
      "Epoch 6/50\n",
      "163/163 [==============================] - 109s 625ms/step - loss: 0.5382 - acc: 0.8695 - val_loss: 0.9503 - val_acc: 0.6490\n",
      "\n",
      "Epoch 00006: val_acc did not improve from 0.66987\n",
      "Epoch 7/50\n",
      "163/163 [==============================] - 109s 629ms/step - loss: 0.5397 - acc: 0.8579 - val_loss: 0.8783 - val_acc: 0.6827\n",
      "\n",
      "Epoch 00007: val_acc improved from 0.66987 to 0.68269, saving model to ./working/checkpoints/finetune/model-07-0.68-0.88.h5\n",
      "Epoch 8/50\n",
      "163/163 [==============================] - 106s 629ms/step - loss: 0.5251 - acc: 0.8750 - val_loss: 0.4839 - val_acc: 0.8061\n",
      "\n",
      "Epoch 00008: val_acc improved from 0.68269 to 0.80609, saving model to ./working/checkpoints/finetune/model-08-0.81-0.48.h5\n",
      "Epoch 9/50\n",
      "163/163 [==============================] - 108s 633ms/step - loss: 0.5267 - acc: 0.8737 - val_loss: 0.9594 - val_acc: 0.6699\n",
      "\n",
      "Epoch 00009: val_acc did not improve from 0.80609\n",
      "Epoch 10/50\n",
      "163/163 [==============================] - 109s 634ms/step - loss: 0.4985 - acc: 0.8763 - val_loss: 1.2055 - val_acc: 0.6458\n",
      "\n",
      "Epoch 00010: val_acc did not improve from 0.80609\n",
      "Epoch 11/50\n",
      "163/163 [==============================] - 108s 626ms/step - loss: 0.5135 - acc: 0.8669 - val_loss: 0.5617 - val_acc: 0.7548\n",
      "\n",
      "Epoch 00011: val_acc did not improve from 0.80609\n",
      "\n",
      "Epoch 00011: ReduceLROnPlateau reducing learning rate to 9.999999747378752e-07.\n",
      "Epoch 12/50\n",
      "163/163 [==============================] - 110s 632ms/step - loss: 0.5124 - acc: 0.8756 - val_loss: 0.5655 - val_acc: 0.7676\n",
      "\n",
      "Epoch 00012: val_acc did not improve from 0.80609\n",
      "Epoch 13/50\n",
      "163/163 [==============================] - 109s 626ms/step - loss: 0.5131 - acc: 0.8726 - val_loss: 0.5285 - val_acc: 0.7837\n",
      "\n",
      "Epoch 00013: val_acc did not improve from 0.80609\n",
      "Epoch 14/50\n",
      "163/163 [==============================] - 110s 630ms/step - loss: 0.5207 - acc: 0.8771 - val_loss: 0.5084 - val_acc: 0.7981\n",
      "\n",
      "Epoch 00014: val_acc did not improve from 0.80609\n",
      "\n",
      "Epoch 00014: ReduceLROnPlateau reducing learning rate to 9.999999974752428e-08.\n",
      "Epoch 15/50\n",
      "163/163 [==============================] - 108s 625ms/step - loss: 0.5159 - acc: 0.8657 - val_loss: 0.5327 - val_acc: 0.7804\n",
      "\n",
      "Epoch 00015: val_acc did not improve from 0.80609\n",
      "Epoch 16/50\n",
      "163/163 [==============================] - 110s 632ms/step - loss: 0.5452 - acc: 0.8597 - val_loss: 0.5297 - val_acc: 0.7804\n",
      "\n",
      "Epoch 00016: val_acc did not improve from 0.80609\n",
      "Epoch 17/50\n",
      "163/163 [==============================] - 110s 629ms/step - loss: 0.5154 - acc: 0.8730 - val_loss: 0.5371 - val_acc: 0.7804\n",
      "\n",
      "Epoch 00017: val_acc did not improve from 0.80609\n",
      "\n",
      "Epoch 00017: ReduceLROnPlateau reducing learning rate to 1.0000000116860975e-08.\n",
      "Epoch 18/50\n",
      "163/163 [==============================] - 110s 630ms/step - loss: 0.5105 - acc: 0.8723 - val_loss: 0.5396 - val_acc: 0.7788\n",
      "\n",
      "Epoch 00018: val_acc did not improve from 0.80609\n",
      "Restoring model weights from the end of the best epoch.\n",
      "Epoch 00018: early stopping\n",
      "20/20 [==============================] - 7s 323ms/step - loss: 0.4839 - acc: 0.8061\n",
      "\n",
      "\n",
      "[INFO] accuracy: 80.61%\n",
      "[INFO] Loss: 0.4838879406452179\n"
     ]
    }
   ],
   "source": [
    "# number of epochs to fine-tune\n",
    "ft_epochs = 50\n",
    "\n",
    "# resetting the data generators\n",
    "train_generator.reset()\n",
    "validation_generator.reset()\n",
    "\n",
    "# the last convolution block from the base model was chosen to be trained\n",
    "\n",
    "for layer in model.layers[:165]:\n",
    "    layer.trainable = False\n",
    "for layer in model.layers[165:]:\n",
    "    layer.trainable = True\n",
    "\n",
    "\n",
    "# recompiling the model for these modifications to take effect \n",
    "# SGD with a low learning rate was used\n",
    "model.compile(\n",
    "    optimizer=optimizers.SGD(lr=0.0001, momentum=0.9), \n",
    "    loss='categorical_crossentropy', \n",
    "    metrics=['acc']\n",
    "    )\n",
    "\n",
    "filepath = finetune_checkpoint_dir + \"/model-{epoch:02d}-{val_acc:.2f}-{val_loss:.2f}.h5\"\n",
    "\n",
    "checkpoint = ModelCheckpoint(\n",
    "                            filepath, \n",
    "                            monitor=\"val_acc\", \n",
    "                            verbose=1, \n",
    "                            save_best_only=True, \n",
    "                            save_weights_only=False, \n",
    "                            mode=\"max\"\n",
    "                            )\n",
    "\n",
    "early_stop = EarlyStopping(\n",
    "                            monitor=\"val_acc\", \n",
    "                            mode=\"max\", \n",
    "                            verbose=1, \n",
    "                            patience=10, \n",
    "                            restore_best_weights=True\n",
    "                            )\n",
    "\n",
    "reduce_lr = ReduceLROnPlateau(\n",
    "                            monitor='val_acc',\n",
    "                            mode=\"max\",\n",
    "                            patience=3,\n",
    "                            verbose=1\n",
    "                            )\n",
    "\n",
    "callbacks_list = [checkpoint, reduce_lr, early_stop]\n",
    "\n",
    "history = model.fit(\n",
    "                    train_generator,\n",
    "                    steps_per_epoch=train_steps,\n",
    "                    epochs=ft_epochs,\n",
    "                    validation_data=validation_generator,\n",
    "                    validation_steps=validation_steps,\n",
    "                    class_weight=class_weights,\n",
    "                    max_queue_size=15,\n",
    "                    workers=8,\n",
    "                    initial_epoch=init_epoch_finetune,\n",
    "                    callbacks=callbacks_list\n",
    "                    )\n",
    "\n",
    "model.save(final_model_path)\n",
    "\n",
    "(eval_loss, eval_accuracy) = model.evaluate(\n",
    "    validation_generator, steps=validation_steps)\n",
    "\n",
    "print(\"\\n\")\n",
    "\n",
    "print(\"[INFO] accuracy: {:.2f}%\".format(eval_accuracy * 100))\n",
    "print(\"[INFO] Loss: {}\".format(eval_loss))"
   ]
  },
  {
   "cell_type": "code",
   "execution_count": 14,
   "id": "dfc1e6e7",
   "metadata": {
    "execution": {
     "iopub.execute_input": "2022-08-25T18:48:05.395412Z",
     "iopub.status.busy": "2022-08-25T18:48:05.394561Z",
     "iopub.status.idle": "2022-08-25T18:48:05.779506Z",
     "shell.execute_reply": "2022-08-25T18:48:05.779000Z"
    },
    "papermill": {
     "duration": 1.796695,
     "end_time": "2022-08-25T18:48:05.779661",
     "exception": false,
     "start_time": "2022-08-25T18:48:03.982966",
     "status": "completed"
    },
    "tags": []
   },
   "outputs": [
    {
     "data": {
      "image/png": "[encoded data removed]",
      "text/plain": [
       "<Figure size 864x648 with 2 Axes>"
      ]
     },
     "metadata": {},
     "output_type": "display_data"
    }
   ],
   "source": [
    "graph_training_history(history, save_fig=False, graph_name=\"ResNet50 Fine-tune\")"
   ]
  },
  {
   "cell_type": "code",
   "execution_count": 15,
   "id": "5a0fa6b2",
   "metadata": {
    "execution": {
     "iopub.execute_input": "2022-08-25T18:48:08.654599Z",
     "iopub.status.busy": "2022-08-25T18:48:08.653797Z",
     "iopub.status.idle": "2022-08-25T18:48:08.656981Z",
     "shell.execute_reply": "2022-08-25T18:48:08.657389Z"
    },
    "papermill": {
     "duration": 1.431018,
     "end_time": "2022-08-25T18:48:08.657531",
     "exception": false,
     "start_time": "2022-08-25T18:48:07.226513",
     "status": "completed"
    },
    "tags": []
   },
   "outputs": [
    {
     "name": "stdout",
     "output_type": "stream",
     "text": [
      "[INFO] Total Time for training: 3765.8523602485657 seconds\n"
     ]
    }
   ],
   "source": [
    "end_time = time.time()\n",
    "\n",
    "training_duration = end_time - start_time\n",
    "print(\"[INFO] Total Time for training: {} seconds\".format(training_duration))"
   ]
  },
  {
   "cell_type": "code",
   "execution_count": 16,
   "id": "ba34efc9",
   "metadata": {
    "execution": {
     "iopub.execute_input": "2022-08-25T18:48:11.394594Z",
     "iopub.status.busy": "2022-08-25T18:48:11.393595Z",
     "iopub.status.idle": "2022-08-25T18:48:11.532804Z",
     "shell.execute_reply": "2022-08-25T18:48:11.532189Z"
    },
    "papermill": {
     "duration": 1.508988,
     "end_time": "2022-08-25T18:48:11.532945",
     "exception": false,
     "start_time": "2022-08-25T18:48:10.023957",
     "status": "completed"
    },
    "tags": []
   },
   "outputs": [],
   "source": [
    "# Cleaning up the checkpoints directory\n",
    "shutil.rmtree('./working/checkpoints')"
   ]
  }
 ],
 "metadata": {
  "kernelspec": {
   "display_name": "Python 3 (ipykernel)",
   "language": "python",
   "name": "python3"
  },
  "language_info": {
   "codemirror_mode": {
    "name": "ipython",
    "version": 3
   },
   "file_extension": ".py",
   "mimetype": "text/x-python",
   "name": "python",
   "nbconvert_exporter": "python",
   "pygments_lexer": "ipython3",
   "version": "3.9.7"
  },
  "papermill": {
   "default_parameters": {},
   "duration": 3785.240579,
   "end_time": "2022-08-25T18:48:16.006246",
   "environment_variables": {},
   "exception": null,
   "input_path": "__notebook__.ipynb",
   "output_path": "__notebook__.ipynb",
   "parameters": {},
   "start_time": "2022-08-25T17:45:10.765667",
   "version": "2.3.3"
  }
 },
 "nbformat": 4,
 "nbformat_minor": 5
}
