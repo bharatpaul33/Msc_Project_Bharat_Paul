{
 "cells": [
  {
   "cell_type": "code",
   "execution_count": 2,
   "id": "35eb40b7",
   "metadata": {
    "_cell_guid": "b1076dfc-b9ad-4769-8c92-a6c4dae69d19",
    "_uuid": "8f2839f25d086af736a60e9eeb907d3b93b6e0e5",
    "execution": {
     "iopub.execute_input": "2022-09-07T18:10:39.993479Z",
     "iopub.status.busy": "2022-09-07T18:10:39.992296Z",
     "iopub.status.idle": "2022-09-07T18:10:47.825152Z",
     "shell.execute_reply": "2022-09-07T18:10:47.824076Z"
    },
    "papermill": {
     "duration": 7.842469,
     "end_time": "2022-09-07T18:10:47.828083",
     "exception": false,
     "start_time": "2022-09-07T18:10:39.985614",
     "status": "completed"
    },
    "tags": []
   },
   "outputs": [],
   "source": [
    "import numpy as np # linear algebra\n",
    "import sklearn\n",
    "from sklearn.metrics import confusion_matrix, classification_report, ConfusionMatrixDisplay\n",
    "import os\n",
    "import shutil\n",
    "import tensorflow as tf\n",
    "from tensorflow.keras.preprocessing.image import img_to_array, load_img\n",
    "from tensorflow.keras.models import Model, load_model\n",
    "import matplotlib.pyplot as plt\n",
    "import os.path\n",
    "import json"
   ]
  },
  {
   "cell_type": "code",
   "execution_count": 3,
   "id": "c7826d46",
   "metadata": {
    "execution": {
     "iopub.execute_input": "2022-09-07T18:10:47.837271Z",
     "iopub.status.busy": "2022-09-07T18:10:47.836102Z",
     "iopub.status.idle": "2022-09-07T18:10:51.566480Z",
     "shell.execute_reply": "2022-09-07T18:10:51.565152Z"
    },
    "papermill": {
     "duration": 3.738324,
     "end_time": "2022-09-07T18:10:51.569902",
     "exception": false,
     "start_time": "2022-09-07T18:10:47.831578",
     "status": "completed"
    },
    "tags": []
   },
   "outputs": [
    {
     "name": "stderr",
     "output_type": "stream",
     "text": [
      "2022-09-09 16:04:13.894535: I tensorflow/core/platform/cpu_feature_guard.cc:151] This TensorFlow binary is optimized with oneAPI Deep Neural Network Library (oneDNN) to use the following CPU instructions in performance-critical operations:  AVX2 FMA\n",
      "To enable them in other operations, rebuild TensorFlow with the appropriate compiler flags.\n"
     ]
    }
   ],
   "source": [
    "resnet50_path = './working/models/ResNet50_final.h5'\n",
    "class_indices_path = './working/models/class_indices.npy'\n",
    "model = load_model(resnet50_path)\n",
    "\n",
    "class_indices = np.load(class_indices_path, allow_pickle=True).item()"
   ]
  },
  {
   "cell_type": "code",
   "execution_count": 4,
   "id": "a512a651",
   "metadata": {
    "execution": {
     "iopub.execute_input": "2022-09-07T18:10:51.580452Z",
     "iopub.status.busy": "2022-09-07T18:10:51.580000Z",
     "iopub.status.idle": "2022-09-07T18:13:04.802958Z",
     "shell.execute_reply": "2022-09-07T18:13:04.801873Z"
    },
    "papermill": {
     "duration": 133.231337,
     "end_time": "2022-09-07T18:13:04.805725",
     "exception": false,
     "start_time": "2022-09-07T18:10:51.574388",
     "status": "completed"
    },
    "tags": []
   },
   "outputs": [],
   "source": [
    "img_width, img_height = 224, 224\n",
    "\n",
    "# invert the class dictionary in order to get the label for the id\n",
    "inv_map = {v: k for k, v in class_indices.items()}\n",
    "\n",
    "predicted_vals = np.array([])\n",
    "real_vals = np.array([])\n",
    "\n",
    "for dirname, _, filenames in os.walk('./input/pneumonia-detection/test'):\n",
    "    for filename in filenames:\n",
    "        image_path = os.path.join(dirname, filename)\n",
    "        image = load_img(image_path, target_size=(img_width, img_height), interpolation='lanczos')\n",
    "        \n",
    "        image = img_to_array(image)\n",
    "\n",
    "        # important! otherwise the predictions will be '0'\n",
    "        image = image / 255.0\n",
    "\n",
    "        # add a new axis to make the image array confirm with\n",
    "        # the (samples, height, width, depth) structure\n",
    "        image = np.expand_dims(image, axis=0)\n",
    "\n",
    "        # get the probabilities for the prediction\n",
    "        probabilities = model.predict(image)\n",
    "\n",
    "        prediction_probability = probabilities[0, probabilities.argmax(axis=1)][0]\n",
    "\n",
    "        class_predicted = np.argmax(probabilities, axis=1)\n",
    "\n",
    "        inID = class_predicted[0]\n",
    "\n",
    "        label = inv_map[inID]\n",
    "        \n",
    "        class_dir = os.path.basename(dirname)\n",
    "\n",
    "        if np.size(predicted_vals) == 0:\n",
    "            predicted_vals = [inID]\n",
    "        else:\n",
    "            predicted_vals = np.concatenate((predicted_vals, [inID]), axis=0)\n",
    "            \n",
    "        real_vals = np.append(real_vals, class_indices[str(class_dir)])"
   ]
  },
  {
   "cell_type": "code",
   "execution_count": 5,
   "id": "1bd02374",
   "metadata": {
    "execution": {
     "iopub.execute_input": "2022-09-07T18:13:04.814392Z",
     "iopub.status.busy": "2022-09-07T18:13:04.813633Z",
     "iopub.status.idle": "2022-09-07T18:13:04.819294Z",
     "shell.execute_reply": "2022-09-07T18:13:04.818439Z"
    },
    "papermill": {
     "duration": 0.012458,
     "end_time": "2022-09-07T18:13:04.821620",
     "exception": false,
     "start_time": "2022-09-07T18:13:04.809162",
     "status": "completed"
    },
    "tags": []
   },
   "outputs": [
    {
     "name": "stdout",
     "output_type": "stream",
     "text": [
      "(624,)\n",
      "(624,)\n"
     ]
    }
   ],
   "source": [
    "print(predicted_vals.shape)\n",
    "print(real_vals.shape)"
   ]
  },
  {
   "cell_type": "code",
   "execution_count": 6,
   "id": "395f87d8",
   "metadata": {
    "execution": {
     "iopub.execute_input": "2022-09-07T18:13:04.830057Z",
     "iopub.status.busy": "2022-09-07T18:13:04.829362Z",
     "iopub.status.idle": "2022-09-07T18:13:04.840942Z",
     "shell.execute_reply": "2022-09-07T18:13:04.839622Z"
    },
    "papermill": {
     "duration": 0.018779,
     "end_time": "2022-09-07T18:13:04.843594",
     "exception": false,
     "start_time": "2022-09-07T18:13:04.824815",
     "status": "completed"
    },
    "tags": []
   },
   "outputs": [
    {
     "name": "stdout",
     "output_type": "stream",
     "text": [
      "\n",
      "Classification report:\n",
      "              precision    recall  f1-score   support\n",
      "\n",
      "         0.0       0.92      0.47      0.62       234\n",
      "         1.0       0.75      0.98      0.85       390\n",
      "\n",
      "    accuracy                           0.79       624\n",
      "   macro avg       0.84      0.72      0.74       624\n",
      "weighted avg       0.82      0.79      0.77       624\n",
      "\n"
     ]
    }
   ],
   "source": [
    "print(\"\\nClassification report:\")\n",
    "print(classification_report(real_vals, predicted_vals))"
   ]
  },
  {
   "cell_type": "code",
   "execution_count": 7,
   "id": "c54977c3",
   "metadata": {
    "execution": {
     "iopub.execute_input": "2022-09-07T18:13:04.851778Z",
     "iopub.status.busy": "2022-09-07T18:13:04.851369Z",
     "iopub.status.idle": "2022-09-07T18:13:04.857115Z",
     "shell.execute_reply": "2022-09-07T18:13:04.855980Z"
    },
    "papermill": {
     "duration": 0.012396,
     "end_time": "2022-09-07T18:13:04.859277",
     "exception": false,
     "start_time": "2022-09-07T18:13:04.846881",
     "status": "completed"
    },
    "tags": []
   },
   "outputs": [
    {
     "name": "stdout",
     "output_type": "stream",
     "text": [
      "{0: 'NORMAL', 1: 'PNEUMONIA'}\n"
     ]
    }
   ],
   "source": [
    "print(inv_map)"
   ]
  },
  {
   "cell_type": "code",
   "execution_count": 13,
   "id": "d6a75e9f",
   "metadata": {
    "execution": {
     "iopub.execute_input": "2022-09-07T18:13:04.867664Z",
     "iopub.status.busy": "2022-09-07T18:13:04.867249Z",
     "iopub.status.idle": "2022-09-07T18:13:04.877841Z",
     "shell.execute_reply": "2022-09-07T18:13:04.876378Z"
    },
    "papermill": {
     "duration": 0.0185,
     "end_time": "2022-09-07T18:13:04.881057",
     "exception": false,
     "start_time": "2022-09-07T18:13:04.862557",
     "status": "completed"
    },
    "tags": []
   },
   "outputs": [
    {
     "name": "stdout",
     "output_type": "stream",
     "text": [
      "\n",
      "Confusion matrix:\n",
      "Labels:  [[110 124]\n",
      " [  9 381]]\n",
      "{0: 'NORMAL', 1: 'PNEUMONIA'}\n"
     ]
    }
   ],
   "source": [
    "cm = confusion_matrix(real_vals, predicted_vals,)\n",
    "print(\"\\nConfusion matrix:\")\n",
    "print(\"Labels: \", inv_map)\n",
    "print(cm)"
   ]
  },
  {
   "cell_type": "code",
   "execution_count": 14,
   "id": "71673db7",
   "metadata": {
    "execution": {
     "iopub.execute_input": "2022-09-07T18:13:04.890451Z",
     "iopub.status.busy": "2022-09-07T18:13:04.889699Z",
     "iopub.status.idle": "2022-09-07T18:13:05.090471Z",
     "shell.execute_reply": "2022-09-07T18:13:05.089272Z"
    },
    "papermill": {
     "duration": 0.208008,
     "end_time": "2022-09-07T18:13:05.092854",
     "exception": false,
     "start_time": "2022-09-07T18:13:04.884846",
     "status": "completed"
    },
    "tags": []
   },
   "outputs": [
    {
     "data": {
      "image/png": "[encoded data removed]",
      "text/plain": [
       "<Figure size 432x288 with 2 Axes>"
      ]
     },
     "metadata": {
      "needs_background": "light"
     },
     "output_type": "display_data"
    }
   ],
   "source": [
    "disp = ConfusionMatrixDisplay(confusion_matrix=cm, display_labels=inv_map)\n",
    "disp.plot()\n",
    "plt.show()"
   ]
  }
 ],
 "metadata": {
  "kernelspec": {
   "display_name": "Python 3 (ipykernel)",
   "language": "python",
   "name": "python3"
  },
  "language_info": {
   "codemirror_mode": {
    "name": "ipython",
    "version": 3
   },
   "file_extension": ".py",
   "mimetype": "text/x-python",
   "name": "python",
   "nbconvert_exporter": "python",
   "pygments_lexer": "ipython3",
   "version": "3.9.7"
  },
  "papermill": {
   "default_parameters": {},
   "duration": 158.176705,
   "end_time": "2022-09-07T18:13:07.934019",
   "environment_variables": {},
   "exception": null,
   "input_path": "__notebook__.ipynb",
   "output_path": "__notebook__.ipynb",
   "parameters": {},
   "start_time": "2022-09-07T18:10:29.757314",
   "version": "2.3.4"
  }
 },
 "nbformat": 4,
 "nbformat_minor": 5
}
